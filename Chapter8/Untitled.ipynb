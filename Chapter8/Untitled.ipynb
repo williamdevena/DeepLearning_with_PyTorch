{
 "cells": [
  {
   "cell_type": "code",
   "execution_count": 1,
   "id": "29bcddf7",
   "metadata": {},
   "outputs": [
    {
     "data": {
      "text/plain": [
       "<torch._C.Generator at 0x7fdd146cfdd0>"
      ]
     },
     "execution_count": 1,
     "metadata": {},
     "output_type": "execute_result"
    }
   ],
   "source": [
    "%matplotlib inline\n",
    "from matplotlib import pyplot as plt\n",
    "import numpy as np\n",
    "import collections\n",
    "\n",
    "import torch\n",
    "import torch.nn as nn\n",
    "import torch.nn.functional as F\n",
    "import torch.optim as optim\n",
    "\n",
    "torch.set_printoptions(edgeitems=2)\n",
    "torch.manual_seed(123)"
   ]
  },
  {
   "cell_type": "code",
   "execution_count": 46,
   "id": "eb2e7783",
   "metadata": {},
   "outputs": [
    {
     "data": {
      "text/plain": [
       "Conv2d(3, 16, kernel_size=(3, 3), stride=(1, 1))"
      ]
     },
     "execution_count": 46,
     "metadata": {},
     "output_type": "execute_result"
    }
   ],
   "source": [
    "conv= nn.Conv2d(3,16,kernel_size=3)\n",
    "conv"
   ]
  },
  {
   "cell_type": "code",
   "execution_count": 3,
   "id": "c04196c5",
   "metadata": {},
   "outputs": [
    {
     "data": {
      "text/plain": [
       "(torch.Size([16, 3, 3, 3]), torch.Size([16]))"
      ]
     },
     "execution_count": 3,
     "metadata": {},
     "output_type": "execute_result"
    }
   ],
   "source": [
    "conv.weight.shape, conv.bias.shape"
   ]
  },
  {
   "cell_type": "code",
   "execution_count": 5,
   "id": "590df82a",
   "metadata": {},
   "outputs": [],
   "source": [
    "class_names = ['airplane','automobile','bird','cat','deer',\n",
    "               'dog','frog','horse','ship','truck']"
   ]
  },
  {
   "cell_type": "code",
   "execution_count": 6,
   "id": "3ad88608",
   "metadata": {},
   "outputs": [],
   "source": [
    "from torchvision import datasets, transforms\n",
    "data_path = '../datasets/p1ch7/cifar10'\n",
    "cifar10 = datasets.CIFAR10(\n",
    "    data_path, train=True, download=False,\n",
    "    transform=transforms.Compose([\n",
    "        transforms.ToTensor(),\n",
    "        transforms.Normalize((0.4915, 0.4823, 0.4468),\n",
    "                             (0.2470, 0.2435, 0.2616))\n",
    "    ]))"
   ]
  },
  {
   "cell_type": "code",
   "execution_count": 7,
   "id": "c68ef3a7",
   "metadata": {},
   "outputs": [],
   "source": [
    "cifar10_val = datasets.CIFAR10(\n",
    "    data_path, train=False, download=False,\n",
    "    transform=transforms.Compose([\n",
    "        transforms.ToTensor(),\n",
    "        transforms.Normalize((0.4915, 0.4823, 0.4468),\n",
    "                             (0.2470, 0.2435, 0.2616))\n",
    "    ]))"
   ]
  },
  {
   "cell_type": "code",
   "execution_count": 8,
   "id": "e3fbfe4d",
   "metadata": {},
   "outputs": [],
   "source": [
    "label_map = {0: 0, 2: 1}\n",
    "class_names = ['airplane', 'bird']\n",
    "cifar2 = [(img, label_map[label])\n",
    "          for img, label in cifar10\n",
    "          if label in [0, 2]]\n",
    "cifar2_val = [(img, label_map[label])\n",
    "              for img, label in cifar10_val\n",
    "              if label in [0, 2]]"
   ]
  },
  {
   "cell_type": "code",
   "execution_count": 47,
   "id": "f02a788a",
   "metadata": {},
   "outputs": [
    {
     "data": {
      "text/plain": [
       "(torch.Size([1, 3, 32, 32]), torch.Size([1, 16, 30, 30]))"
      ]
     },
     "execution_count": 47,
     "metadata": {},
     "output_type": "execute_result"
    }
   ],
   "source": [
    "img, _ = cifar2[0]\n",
    "output = conv(img.unsqueeze(0))\n",
    "img.unsqueeze(0).shape, output.shape"
   ]
  },
  {
   "cell_type": "code",
   "execution_count": 48,
   "id": "23ce2954",
   "metadata": {},
   "outputs": [
    {
     "data": {
      "image/png": "[encoded data removed]",
      "text/plain": [
       "<Figure size 432x288 with 1 Axes>"
      ]
     },
     "metadata": {
      "needs_background": "light"
     },
     "output_type": "display_data"
    }
   ],
   "source": [
    "plt.imshow(img.mean(0), cmap='gray')\n",
    "plt.show()"
   ]
  },
  {
   "cell_type": "code",
   "execution_count": 49,
   "id": "1c402446",
   "metadata": {},
   "outputs": [
    {
     "data": {
      "image/png": "[encoded data removed]",
      "text/plain": [
       "<Figure size 720x345.6 with 2 Axes>"
      ]
     },
     "metadata": {
      "needs_background": "light"
     },
     "output_type": "display_data"
    }
   ],
   "source": [
    "plt.figure(figsize=(10, 4.8))\n",
    "ax1 = plt.subplot(1, 2, 1)\n",
    "plt.title('output')\n",
    "plt.imshow(output[0, 0].detach(), cmap='gray')\n",
    "plt.subplot(1, 2, 2, sharex=ax1, sharey=ax1)\n",
    "plt.imshow(img.mean(0), cmap='gray')\n",
    "plt.title('input')\n",
    "plt.savefig('Ch8_F2_PyTorch.png')\n",
    "plt.show()"
   ]
  },
  {
   "cell_type": "code",
   "execution_count": 56,
   "id": "260adebc",
   "metadata": {},
   "outputs": [],
   "source": [
    "conv=nn.Conv2d(3,1,kernel_size=3, padding=1)"
   ]
  },
  {
   "cell_type": "code",
   "execution_count": 51,
   "id": "d9790a12",
   "metadata": {},
   "outputs": [],
   "source": [
    "output=conv(img.unsqueeze(0))"
   ]
  },
  {
   "cell_type": "code",
   "execution_count": 52,
   "id": "c92333e3",
   "metadata": {},
   "outputs": [
    {
     "data": {
      "text/plain": [
       "(torch.Size([1, 3, 32, 32]), torch.Size([1, 1, 32, 32]))"
      ]
     },
     "execution_count": 52,
     "metadata": {},
     "output_type": "execute_result"
    }
   ],
   "source": [
    "img.unsqueeze(0).shape, output.shape"
   ]
  },
  {
   "cell_type": "code",
   "execution_count": 57,
   "id": "5e7d84dd",
   "metadata": {},
   "outputs": [],
   "source": [
    "with torch.no_grad():\n",
    "    conv.bias.zero_()\n",
    "    \n",
    "with torch.no_grad():\n",
    "    conv.weight.fill_(1.0 / 9.0)"
   ]
  },
  {
   "cell_type": "code",
   "execution_count": 58,
   "id": "fcb36d01",
   "metadata": {},
   "outputs": [
    {
     "data": {
      "image/png": "[encoded data removed]",
      "text/plain": [
       "<Figure size 720x345.6 with 2 Axes>"
      ]
     },
     "metadata": {
      "needs_background": "light"
     },
     "output_type": "display_data"
    }
   ],
   "source": [
    "plt.figure(figsize=(10, 4.8))\n",
    "ax1 = plt.subplot(1, 2, 1)\n",
    "plt.title('output')\n",
    "plt.imshow(output[0, 0].detach(), cmap='gray')\n",
    "plt.subplot(1, 2, 2, sharex=ax1, sharey=ax1)\n",
    "plt.imshow(img.mean(0), cmap='gray')\n",
    "plt.title('input')\n",
    "plt.savefig('Ch8_F2_PyTorch.png')\n",
    "plt.show()"
   ]
  },
  {
   "cell_type": "code",
   "execution_count": 59,
   "id": "4280ed6a",
   "metadata": {},
   "outputs": [],
   "source": [
    "conv = nn.Conv2d(3, 1, kernel_size=3, padding=1)\n",
    "\n",
    "with torch.no_grad():\n",
    "    conv.weight[:] = torch.tensor([[-1.0, 0.0, 1.0],\n",
    "                                   [-1.0, 0.0, 1.0],\n",
    "                                   [-1.0, 0.0, 1.0]])\n",
    "    conv.bias.zero_()"
   ]
  },
  {
   "cell_type": "code",
   "execution_count": 60,
   "id": "ab8f1c83",
   "metadata": {},
   "outputs": [
    {
     "data": {
      "image/png": "[encoded data removed]",
      "text/plain": [
       "<Figure size 720x345.6 with 2 Axes>"
      ]
     },
     "metadata": {
      "needs_background": "light"
     },
     "output_type": "display_data"
    }
   ],
   "source": [
    "output = conv(img.unsqueeze(0))\n",
    "plt.figure(figsize=(10, 4.8))  # bookskip\n",
    "ax1 = plt.subplot(1, 2, 1)   # bookskip\n",
    "plt.title('output')   # bookskip\n",
    "plt.imshow(output[0, 0].detach(), cmap='gray')\n",
    "plt.subplot(1, 2, 2, sharex=ax1, sharey=ax1)  # bookskip\n",
    "plt.imshow(img.mean(0), cmap='gray')  # bookskip\n",
    "plt.title('input')  # bookskip\n",
    "plt.savefig('Ch8_F5_PyTorch.png')  # bookskip\n",
    "plt.show()"
   ]
  },
  {
   "cell_type": "code",
   "execution_count": 61,
   "id": "0d41ec0f",
   "metadata": {},
   "outputs": [],
   "source": [
    "model = nn.Sequential(\n",
    "            nn.Conv2d(3, 16, kernel_size=3, padding=1),\n",
    "            nn.Tanh(),\n",
    "            nn.MaxPool2d(2),\n",
    "            nn.Conv2d(16, 8, kernel_size=3, padding=1),\n",
    "            nn.Tanh(),\n",
    "            nn.MaxPool2d(2),\n",
    "            # ... <1>\n",
    "            nn.Linear(8 * 8 * 8, 32),\n",
    "            nn.Tanh(),\n",
    "            nn.Linear(32, 2))"
   ]
  },
  {
   "cell_type": "code",
   "execution_count": 62,
   "id": "33510167",
   "metadata": {},
   "outputs": [
    {
     "data": {
      "text/plain": [
       "<generator object Module.parameters at 0x7fdcfcc90190>"
      ]
     },
     "execution_count": 62,
     "metadata": {},
     "output_type": "execute_result"
    }
   ],
   "source": [
    "model.parameters()"
   ]
  },
  {
   "cell_type": "code",
   "execution_count": 64,
   "id": "618efb0c",
   "metadata": {},
   "outputs": [
    {
     "data": {
      "text/plain": [
       "(18090,\n",
       " [432, 16, 1152, 8, 16384, 32, 64, 2],\n",
       " [Parameter containing:\n",
       "  tensor([[[[ 1.6118e-01,  3.8820e-02, -1.1612e-01],\n",
       "            [ 1.1584e-01, -1.6247e-01,  5.7391e-02],\n",
       "            [-5.5294e-02, -3.1698e-02, -1.4876e-01]],\n",
       "  \n",
       "           [[ 3.6162e-02, -1.1897e-01,  1.8049e-01],\n",
       "            [ 3.1621e-02, -1.6154e-01, -1.0024e-01],\n",
       "            [ 1.2944e-01,  1.2646e-01, -8.2421e-02]],\n",
       "  \n",
       "           [[ 5.7636e-02,  8.7620e-02, -1.7282e-01],\n",
       "            [ 9.0919e-02, -1.2663e-01, -5.1313e-02],\n",
       "            [ 1.8517e-02,  1.2279e-01, -1.3827e-01]]],\n",
       "  \n",
       "  \n",
       "          [[[ 1.2943e-01,  9.4076e-02,  1.8369e-01],\n",
       "            [-2.4480e-02, -1.0882e-02,  1.2443e-01],\n",
       "            [-1.7736e-01, -1.0313e-01, -6.5456e-02]],\n",
       "  \n",
       "           [[-1.7762e-01, -8.7019e-02, -1.6388e-01],\n",
       "            [-1.7929e-01, -2.7208e-02,  1.8159e-01],\n",
       "            [ 3.6320e-02, -1.7458e-01,  5.0400e-02]],\n",
       "  \n",
       "           [[ 1.3269e-01, -1.3097e-01,  1.0830e-01],\n",
       "            [ 8.4583e-02,  4.1023e-02,  6.3035e-02],\n",
       "            [-2.2629e-02, -1.5117e-01, -1.4388e-02]]],\n",
       "  \n",
       "  \n",
       "          [[[ 1.3197e-01,  8.1440e-03, -2.4530e-02],\n",
       "            [-1.3738e-01, -1.5297e-01,  1.0734e-03],\n",
       "            [ 6.2931e-02,  1.4343e-01, -1.0695e-02]],\n",
       "  \n",
       "           [[ 7.5051e-02, -1.2850e-01, -1.8903e-01],\n",
       "            [-1.1879e-01,  1.4257e-01, -1.0233e-01],\n",
       "            [-8.4718e-02,  6.1350e-03, -8.9303e-02]],\n",
       "  \n",
       "           [[-2.4854e-02, -1.2320e-01, -1.2431e-01],\n",
       "            [ 1.8336e-01, -1.8327e-01, -1.1461e-02],\n",
       "            [ 8.8757e-02, -1.0405e-01,  7.8465e-02]]],\n",
       "  \n",
       "  \n",
       "          [[[ 1.4116e-02,  1.6315e-01,  1.6325e-01],\n",
       "            [ 1.2816e-03, -1.1865e-01, -3.8511e-02],\n",
       "            [ 9.7271e-02,  1.5268e-01,  1.9419e-02]],\n",
       "  \n",
       "           [[-9.2046e-02,  9.8613e-02, -1.7271e-01],\n",
       "            [-1.6859e-01, -6.4580e-02, -9.5558e-02],\n",
       "            [-1.6364e-01,  8.3432e-02,  1.6952e-01]],\n",
       "  \n",
       "           [[-2.1995e-02,  5.5621e-02,  1.5603e-01],\n",
       "            [-1.2377e-01,  6.5326e-02, -1.4045e-01],\n",
       "            [ 2.2202e-02, -1.7618e-02, -2.8724e-02]]],\n",
       "  \n",
       "  \n",
       "          [[[ 1.3977e-01,  5.5181e-02, -1.6933e-01],\n",
       "            [-6.9976e-02, -5.7803e-02, -1.8592e-01],\n",
       "            [ 9.1194e-02,  3.7445e-02, -1.4362e-01]],\n",
       "  \n",
       "           [[ 6.3495e-02, -1.4714e-01,  1.5007e-01],\n",
       "            [-1.0724e-01,  1.7538e-01,  2.8205e-02],\n",
       "            [-1.4526e-01, -1.1485e-01,  6.1675e-02]],\n",
       "  \n",
       "           [[ 1.7107e-01,  1.0900e-01,  5.0268e-02],\n",
       "            [ 9.1045e-02,  1.4099e-01,  1.7261e-01],\n",
       "            [-1.8926e-01,  2.0932e-04, -1.2181e-01]]],\n",
       "  \n",
       "  \n",
       "          [[[-7.6474e-02, -1.9060e-01, -1.5654e-01],\n",
       "            [ 1.2363e-01, -2.7342e-02,  9.7779e-02],\n",
       "            [-1.6104e-01, -2.2863e-02,  1.3679e-01]],\n",
       "  \n",
       "           [[ 1.2103e-01,  1.7369e-01,  1.6814e-01],\n",
       "            [-1.7629e-01, -7.0310e-02, -1.5618e-01],\n",
       "            [ 1.5025e-01, -2.6111e-02, -2.7084e-02]],\n",
       "  \n",
       "           [[ 6.5056e-02,  5.5673e-02,  1.3765e-01],\n",
       "            [-5.2783e-02, -1.1010e-01,  9.0641e-02],\n",
       "            [-1.4103e-01,  1.1769e-01, -4.3516e-02]]],\n",
       "  \n",
       "  \n",
       "          [[[ 9.7122e-02, -1.3467e-01, -1.3466e-01],\n",
       "            [-6.1252e-02,  1.3674e-02, -5.8734e-02],\n",
       "            [ 1.2977e-01,  6.8711e-02,  6.0185e-02]],\n",
       "  \n",
       "           [[ 1.2331e-01, -1.7172e-01,  9.3221e-02],\n",
       "            [-1.0714e-01,  1.7127e-01,  1.0927e-01],\n",
       "            [ 8.1527e-02,  1.4887e-01, -2.8908e-02]],\n",
       "  \n",
       "           [[-1.2959e-01,  8.4520e-03,  9.9410e-02],\n",
       "            [ 1.0936e-01, -1.6018e-01, -2.6777e-02],\n",
       "            [ 3.1716e-03, -7.1566e-02, -1.2746e-01]]],\n",
       "  \n",
       "  \n",
       "          [[[-1.5901e-01,  5.2060e-03, -1.5063e-01],\n",
       "            [ 6.4649e-02,  1.7033e-03,  2.5163e-02],\n",
       "            [-5.5872e-03,  7.2087e-02,  5.0614e-02]],\n",
       "  \n",
       "           [[ 2.3346e-02,  1.4384e-01,  1.4351e-01],\n",
       "            [-6.8681e-02,  1.6800e-01, -1.9163e-01],\n",
       "            [ 7.3512e-04,  1.6638e-01,  1.7715e-01]],\n",
       "  \n",
       "           [[ 1.1888e-01,  4.7936e-02, -1.1734e-01],\n",
       "            [-1.2362e-01,  2.9403e-02,  1.3965e-01],\n",
       "            [ 1.8501e-02,  1.2119e-01,  1.5444e-01]]],\n",
       "  \n",
       "  \n",
       "          [[[ 1.6171e-01, -8.5684e-02, -8.5447e-02],\n",
       "            [ 1.6357e-01,  3.3822e-02,  1.6581e-01],\n",
       "            [ 1.7728e-01, -1.8379e-01,  1.8497e-01]],\n",
       "  \n",
       "           [[ 2.3796e-02, -9.1558e-02,  1.0423e-01],\n",
       "            [-1.4513e-01, -5.7573e-02,  1.3246e-01],\n",
       "            [ 1.5645e-01, -1.6918e-01, -8.8553e-02]],\n",
       "  \n",
       "           [[-5.0704e-02, -1.1260e-01,  9.5926e-02],\n",
       "            [ 3.4657e-02,  4.6288e-02,  1.4166e-01],\n",
       "            [-7.5216e-02,  9.6892e-02,  3.4449e-02]]],\n",
       "  \n",
       "  \n",
       "          [[[-1.4322e-01, -1.0440e-01, -1.1889e-01],\n",
       "            [ 1.0869e-01, -1.2069e-01, -1.8220e-01],\n",
       "            [-3.6217e-02, -1.1986e-01, -7.4842e-02]],\n",
       "  \n",
       "           [[-1.6533e-01,  1.8413e-01,  1.8236e-01],\n",
       "            [-1.5281e-01, -1.3333e-01, -1.3575e-02],\n",
       "            [-1.4837e-01, -7.6635e-02, -1.1643e-01]],\n",
       "  \n",
       "           [[-7.2687e-02,  1.9216e-01,  1.5902e-01],\n",
       "            [-1.7550e-01, -1.8962e-01, -1.1228e-01],\n",
       "            [ 1.0360e-01, -1.3666e-01,  1.4212e-01]]],\n",
       "  \n",
       "  \n",
       "          [[[ 5.2260e-04,  9.1749e-02,  9.1973e-02],\n",
       "            [ 1.4401e-01,  1.0749e-01,  1.8272e-01],\n",
       "            [-3.9895e-02, -1.0539e-01,  6.5118e-02]],\n",
       "  \n",
       "           [[ 1.5490e-01, -6.0047e-02,  1.8395e-01],\n",
       "            [ 1.5990e-01,  7.0935e-02,  1.6773e-01],\n",
       "            [ 3.1056e-03,  9.4150e-02, -1.8192e-01]],\n",
       "  \n",
       "           [[ 5.1155e-02,  5.4937e-02,  6.8144e-02],\n",
       "            [ 7.0279e-02, -8.1305e-02,  1.3405e-01],\n",
       "            [ 1.8845e-01, -1.3637e-01, -7.1040e-02]]],\n",
       "  \n",
       "  \n",
       "          [[[ 5.3170e-02,  5.9868e-02, -1.0761e-01],\n",
       "            [-1.7347e-02, -1.7762e-01, -1.4878e-01],\n",
       "            [ 1.3187e-01,  1.3603e-01,  1.1218e-01]],\n",
       "  \n",
       "           [[-3.7329e-02,  1.2351e-01, -6.1964e-02],\n",
       "            [ 4.9663e-02,  1.4014e-01,  1.2079e-01],\n",
       "            [ 1.9771e-02, -3.9413e-02, -2.9152e-03]],\n",
       "  \n",
       "           [[ 8.4375e-02,  1.2498e-01, -1.9062e-01],\n",
       "            [-1.9523e-02, -1.6001e-01, -6.5142e-02],\n",
       "            [ 4.6811e-02, -1.3214e-01, -6.9279e-02]]],\n",
       "  \n",
       "  \n",
       "          [[[-1.7006e-01,  6.9860e-02,  4.9841e-02],\n",
       "            [ 1.0168e-02,  6.9277e-02,  7.4137e-02],\n",
       "            [-5.3493e-02,  1.2573e-01, -1.9217e-01]],\n",
       "  \n",
       "           [[-1.6771e-01, -1.4463e-01,  1.1015e-02],\n",
       "            [-1.7000e-01,  1.3757e-02, -2.5485e-03],\n",
       "            [-1.7657e-01,  1.8895e-01, -4.4967e-02]],\n",
       "  \n",
       "           [[ 1.3837e-01,  1.6965e-01, -7.5376e-02],\n",
       "            [-5.6718e-02,  1.8895e-01,  2.1702e-02],\n",
       "            [ 1.6532e-01,  5.2448e-02,  1.0463e-01]]],\n",
       "  \n",
       "  \n",
       "          [[[-1.6662e-01, -3.7934e-02,  1.3482e-01],\n",
       "            [-1.0704e-02, -1.6719e-01,  2.0098e-02],\n",
       "            [ 1.7906e-02, -1.7998e-02,  9.9996e-02]],\n",
       "  \n",
       "           [[ 7.4852e-02, -9.7079e-02, -3.4227e-02],\n",
       "            [-1.1838e-01,  9.1142e-02, -1.1291e-01],\n",
       "            [-1.0147e-01, -4.6543e-03,  1.2949e-01]],\n",
       "  \n",
       "           [[ 1.4450e-01, -1.6718e-01, -1.8645e-01],\n",
       "            [ 1.4614e-01, -9.5791e-02, -1.7857e-01],\n",
       "            [-1.4516e-02,  1.4035e-01, -2.4637e-02]]],\n",
       "  \n",
       "  \n",
       "          [[[ 4.2897e-02, -1.8730e-01,  1.5844e-01],\n",
       "            [ 1.2410e-01,  1.3388e-01,  9.9992e-02],\n",
       "            [-9.8438e-02, -1.6130e-01,  7.3481e-04]],\n",
       "  \n",
       "           [[ 1.0322e-01, -8.3709e-02,  4.7702e-02],\n",
       "            [-1.5178e-02, -1.7890e-02,  4.9659e-02],\n",
       "            [ 1.4047e-01,  4.0257e-02,  1.3848e-02]],\n",
       "  \n",
       "           [[ 3.1158e-02,  3.5408e-02, -6.2374e-02],\n",
       "            [-2.1946e-02,  4.6904e-02, -1.5161e-01],\n",
       "            [ 1.2717e-04, -1.7799e-01, -1.7775e-01]]],\n",
       "  \n",
       "  \n",
       "          [[[ 3.4759e-03,  2.6767e-02,  3.6323e-02],\n",
       "            [-7.1046e-02, -2.1126e-02, -2.1329e-02],\n",
       "            [-6.4154e-03, -1.2437e-01,  4.2009e-02]],\n",
       "  \n",
       "           [[ 5.9622e-02,  5.4904e-03, -1.5619e-02],\n",
       "            [ 9.3186e-02,  1.3027e-01, -2.4123e-03],\n",
       "            [-1.4606e-01, -1.3401e-01, -3.7575e-03]],\n",
       "  \n",
       "           [[-1.7591e-01, -1.4550e-01, -4.6666e-02],\n",
       "            [-7.6960e-02, -2.4698e-02,  4.6501e-02],\n",
       "            [ 1.3173e-01,  1.9154e-01, -7.6966e-02]]]], requires_grad=True),\n",
       "  Parameter containing:\n",
       "  tensor([-0.1880,  0.1278,  0.1677,  0.1836,  0.0437,  0.1226,  0.0005, -0.1364,\n",
       "          -0.1549, -0.1154,  0.0292, -0.0487,  0.0492,  0.0676, -0.1220,  0.0153],\n",
       "         requires_grad=True),\n",
       "  Parameter containing:\n",
       "  tensor([[[[ 0.0807,  0.0549, -0.0093],\n",
       "            [-0.0174, -0.0325,  0.0273],\n",
       "            [-0.0503,  0.0825,  0.0012]],\n",
       "  \n",
       "           [[-0.0538, -0.0404, -0.0321],\n",
       "            [-0.0662, -0.0260, -0.0800],\n",
       "            [ 0.0282, -0.0271,  0.0203]],\n",
       "  \n",
       "           ...,\n",
       "  \n",
       "           [[ 0.0142, -0.0094,  0.0303],\n",
       "            [ 0.0825, -0.0341,  0.0275],\n",
       "            [ 0.0262,  0.0476, -0.0355]],\n",
       "  \n",
       "           [[-0.0807, -0.0487,  0.0057],\n",
       "            [-0.0827,  0.0702,  0.0671],\n",
       "            [ 0.0195, -0.0603, -0.0793]]],\n",
       "  \n",
       "  \n",
       "          [[[ 0.0494, -0.0550,  0.0283],\n",
       "            [ 0.0790, -0.0478,  0.0316],\n",
       "            [-0.0043,  0.0321,  0.0396]],\n",
       "  \n",
       "           [[-0.0018,  0.0147, -0.0179],\n",
       "            [ 0.0225,  0.0195,  0.0524],\n",
       "            [ 0.0730,  0.0226,  0.0649]],\n",
       "  \n",
       "           ...,\n",
       "  \n",
       "           [[-0.0565, -0.0093,  0.0446],\n",
       "            [ 0.0470, -0.0381,  0.0408],\n",
       "            [-0.0031, -0.0649,  0.0380]],\n",
       "  \n",
       "           [[ 0.0017,  0.0378,  0.0610],\n",
       "            [ 0.0499,  0.0195, -0.0058],\n",
       "            [-0.0181, -0.0571, -0.0583]]],\n",
       "  \n",
       "  \n",
       "          ...,\n",
       "  \n",
       "  \n",
       "          [[[-0.0479,  0.0308,  0.0800],\n",
       "            [-0.0412, -0.0185,  0.0776],\n",
       "            [ 0.0281, -0.0504, -0.0204]],\n",
       "  \n",
       "           [[-0.0656,  0.0582, -0.0137],\n",
       "            [ 0.0392,  0.0789, -0.0349],\n",
       "            [-0.0711,  0.0693,  0.0664]],\n",
       "  \n",
       "           ...,\n",
       "  \n",
       "           [[-0.0735,  0.0711, -0.0809],\n",
       "            [ 0.0406, -0.0083, -0.0715],\n",
       "            [ 0.0140, -0.0677,  0.0575]],\n",
       "  \n",
       "           [[ 0.0305,  0.0578, -0.0239],\n",
       "            [-0.0345,  0.0437,  0.0269],\n",
       "            [-0.0622,  0.0211,  0.0581]]],\n",
       "  \n",
       "  \n",
       "          [[[-0.0244, -0.0497,  0.0253],\n",
       "            [-0.0665,  0.0351,  0.0432],\n",
       "            [-0.0067,  0.0521,  0.0578]],\n",
       "  \n",
       "           [[ 0.0813, -0.0513,  0.0180],\n",
       "            [ 0.0312, -0.0383,  0.0189],\n",
       "            [-0.0240, -0.0132, -0.0351]],\n",
       "  \n",
       "           ...,\n",
       "  \n",
       "           [[-0.0427, -0.0285, -0.0556],\n",
       "            [ 0.0403, -0.0255, -0.0318],\n",
       "            [-0.0595,  0.0394, -0.0580]],\n",
       "  \n",
       "           [[-0.0379,  0.0391, -0.0423],\n",
       "            [-0.0354,  0.0449, -0.0821],\n",
       "            [-0.0798, -0.0669, -0.0108]]]], requires_grad=True),\n",
       "  Parameter containing:\n",
       "  tensor([ 0.0345,  0.0591,  0.0558,  0.0682, -0.0430,  0.0072,  0.0823, -0.0524],\n",
       "         requires_grad=True),\n",
       "  Parameter containing:\n",
       "  tensor([[-0.0393, -0.0106,  ..., -0.0064,  0.0010],\n",
       "          [-0.0145,  0.0316,  ..., -0.0171, -0.0163],\n",
       "          ...,\n",
       "          [-0.0081, -0.0131,  ...,  0.0286, -0.0408],\n",
       "          [-0.0277, -0.0231,  ...,  0.0207, -0.0320]], requires_grad=True),\n",
       "  Parameter containing:\n",
       "  tensor([-0.0154, -0.0012, -0.0183, -0.0084, -0.0020, -0.0211, -0.0266, -0.0134,\n",
       "           0.0346,  0.0361, -0.0406, -0.0419,  0.0191,  0.0234, -0.0017, -0.0003,\n",
       "           0.0420,  0.0286, -0.0407, -0.0227,  0.0076,  0.0287,  0.0268,  0.0260,\n",
       "           0.0295,  0.0345, -0.0341, -0.0207,  0.0057,  0.0354, -0.0191,  0.0039],\n",
       "         requires_grad=True),\n",
       "  Parameter containing:\n",
       "  tensor([[ 0.1751,  0.0949, -0.1139, -0.1342,  0.0161,  0.0032, -0.0060, -0.1332,\n",
       "            0.1499, -0.0850,  0.1198, -0.0579, -0.0612,  0.1046,  0.1624, -0.0774,\n",
       "           -0.1045,  0.0875, -0.1344, -0.1259,  0.0302, -0.0666,  0.0411,  0.0709,\n",
       "            0.1236,  0.0047, -0.0750, -0.0052,  0.0503,  0.1142, -0.0414, -0.0030],\n",
       "          [ 0.1263,  0.1107, -0.1324,  0.1397,  0.1135, -0.0080, -0.1420,  0.0119,\n",
       "           -0.1003,  0.0274,  0.0646, -0.0245, -0.0609, -0.0195,  0.0427, -0.0626,\n",
       "           -0.1124, -0.1357, -0.0558,  0.0750, -0.0764,  0.0621, -0.0990,  0.0642,\n",
       "           -0.0318, -0.0894,  0.0320, -0.0186, -0.1185,  0.0083,  0.0211, -0.1162]],\n",
       "         requires_grad=True),\n",
       "  Parameter containing:\n",
       "  tensor([ 0.1538, -0.0390], requires_grad=True)])"
      ]
     },
     "execution_count": 64,
     "metadata": {},
     "output_type": "execute_result"
    }
   ],
   "source": [
    "numel_list = [p.numel() for p in model.parameters()]\n",
    "list_par= [p for p in model.parameters()]\n",
    "sum(numel_list), numel_list, list_par"
   ]
  },
  {
   "cell_type": "code",
   "execution_count": 65,
   "id": "31e9b1dc",
   "metadata": {},
   "outputs": [],
   "source": [
    "import torch.nn.functional as F\n",
    "\n",
    "class Net(nn.Module):\n",
    "    def __init__(self):\n",
    "        super().__init__()\n",
    "        self.conv1 = nn.Conv2d(3, 16, kernel_size=3, padding=1)\n",
    "        self.conv2 = nn.Conv2d(16, 8, kernel_size=3, padding=1)\n",
    "        self.fc1 = nn.Linear(8 * 8 * 8, 32)\n",
    "        self.fc2 = nn.Linear(32, 2)\n",
    "        \n",
    "    def forward(self, x):\n",
    "        out = F.max_pool2d(torch.tanh(self.conv1(x)), 2)\n",
    "        out = F.max_pool2d(torch.tanh(self.conv2(out)), 2)\n",
    "        out = out.view(-1, 8 * 8 * 8)\n",
    "        out = torch.tanh(self.fc1(out))\n",
    "        out = self.fc2(out)\n",
    "        return out"
   ]
  },
  {
   "cell_type": "code",
   "execution_count": 66,
   "id": "2c9a194d",
   "metadata": {},
   "outputs": [],
   "source": [
    "model=Net()\n"
   ]
  },
  {
   "cell_type": "code",
   "execution_count": 67,
   "id": "b6c7465e",
   "metadata": {},
   "outputs": [
    {
     "data": {
      "text/plain": [
       "tensor([[-0.0955, -0.2403]], grad_fn=<AddmmBackward0>)"
      ]
     },
     "execution_count": 67,
     "metadata": {},
     "output_type": "execute_result"
    }
   ],
   "source": [
    "model(img.unsqueeze(0))"
   ]
  },
  {
   "cell_type": "code",
   "execution_count": 68,
   "id": "eab25d90",
   "metadata": {},
   "outputs": [],
   "source": [
    "import datetime  # <1>\n",
    "\n",
    "def training_loop(n_epochs, optimizer, model, loss_fn, train_loader):\n",
    "    for epoch in range(1, n_epochs + 1):  # <2>\n",
    "        loss_train = 0.0\n",
    "        for imgs, labels in train_loader:  # <3>\n",
    "            \n",
    "            outputs = model(imgs)  # <4>\n",
    "            \n",
    "            loss = loss_fn(outputs, labels)  # <5>\n",
    "\n",
    "            optimizer.zero_grad()  # <6>\n",
    "            \n",
    "            loss.backward()  # <7>\n",
    "            \n",
    "            optimizer.step()  # <8>\n",
    "\n",
    "            loss_train += loss.item()  # <9>\n",
    "\n",
    "        if epoch == 1 or epoch % 10 == 0:\n",
    "            print('{} Epoch {}, Training loss {}'.format(\n",
    "                datetime.datetime.now(), epoch,\n",
    "                loss_train / len(train_loader)))  # <10>"
   ]
  },
  {
   "cell_type": "code",
   "execution_count": 69,
   "id": "485e2279",
   "metadata": {},
   "outputs": [],
   "source": [
    "train_loader=torch.utils.data.DataLoader(cifar2, batch_size=64, shuffle=True)"
   ]
  },
  {
   "cell_type": "code",
   "execution_count": 70,
   "id": "95e75c0a",
   "metadata": {},
   "outputs": [],
   "source": [
    "model=Net()\n",
    "optimizer=optim.SGD(model.parameters(), lr=1e-2)\n",
    "loss_fn=nn.CrossEntropyLoss()"
   ]
  },
  {
   "cell_type": "code",
   "execution_count": 71,
   "id": "9c5a40d7",
   "metadata": {},
   "outputs": [
    {
     "name": "stdout",
     "output_type": "stream",
     "text": [
      "2021-11-24 17:22:08.580421 Epoch 1, Training loss 0.553430680446564\n",
      "2021-11-24 17:22:22.395166 Epoch 10, Training loss 0.33140132799270045\n",
      "2021-11-24 17:22:37.813134 Epoch 20, Training loss 0.28754860722714926\n",
      "2021-11-24 17:22:53.002140 Epoch 30, Training loss 0.26211562804925215\n",
      "2021-11-24 17:23:08.247249 Epoch 40, Training loss 0.24074060939679479\n",
      "2021-11-24 17:23:23.481555 Epoch 50, Training loss 0.2242288580935472\n",
      "2021-11-24 17:23:38.999305 Epoch 60, Training loss 0.205951467963161\n",
      "2021-11-24 17:23:54.253862 Epoch 70, Training loss 0.19159365293516475\n",
      "2021-11-24 17:24:09.640056 Epoch 80, Training loss 0.18018541734214802\n",
      "2021-11-24 17:24:24.931661 Epoch 90, Training loss 0.1673222271974679\n",
      "2021-11-24 17:24:40.365539 Epoch 100, Training loss 0.1531604026580692\n"
     ]
    }
   ],
   "source": [
    "training_loop(\n",
    "    n_epochs=100,\n",
    "    optimizer=optimizer,\n",
    "    model=model,\n",
    "    loss_fn=loss_fn,\n",
    "    train_loader=train_loader,\n",
    ")"
   ]
  },
  {
   "cell_type": "code",
   "execution_count": 72,
   "id": "3b427c83",
   "metadata": {},
   "outputs": [],
   "source": [
    "train_loader=torch.utils.data.DataLoader(cifar2, batch_size=64, shuffle=False)"
   ]
  },
  {
   "cell_type": "code",
   "execution_count": 73,
   "id": "122c0288",
   "metadata": {},
   "outputs": [],
   "source": [
    "val_loader=torch.utils.data.DataLoader(cifar2_val, batch_size=64, shuffle=False)  #LOADS FOR VALIDATION"
   ]
  },
  {
   "cell_type": "code",
   "execution_count": 74,
   "id": "0f2b68c0",
   "metadata": {},
   "outputs": [],
   "source": [
    "def validate(model, train_loader, val_loader):\n",
    "    for name, loader in [(\"train\", train_loader), (\"val\", val_loader)]:\n",
    "        correct = 0\n",
    "        total = 0\n",
    "\n",
    "        with torch.no_grad():  # <1>\n",
    "            for imgs, labels in loader:\n",
    "                outputs = model(imgs)\n",
    "                _, predicted = torch.max(outputs, dim=1) # <2>\n",
    "                total += labels.shape[0]  # <3>\n",
    "                correct += int((predicted == labels).sum())  # <4>\n",
    "\n",
    "        print(\"Accuracy {}: {:.2f}\".format(name , correct / total))"
   ]
  },
  {
   "cell_type": "code",
   "execution_count": 75,
   "id": "57980a27",
   "metadata": {},
   "outputs": [
    {
     "name": "stdout",
     "output_type": "stream",
     "text": [
      "Accuracy train: 0.94\n",
      "Accuracy val: 0.89\n"
     ]
    }
   ],
   "source": [
    "validate(model, train_loader, val_loader)"
   ]
  },
  {
   "cell_type": "code",
   "execution_count": 76,
   "id": "ba74db73",
   "metadata": {},
   "outputs": [],
   "source": [
    "torch.save(model.state_dict(), '../models/birds_vs_airplanes.pt')"
   ]
  },
  {
   "cell_type": "code",
   "execution_count": 77,
   "id": "ccbb1643",
   "metadata": {},
   "outputs": [
    {
     "data": {
      "text/plain": [
       "<All keys matched successfully>"
      ]
     },
     "execution_count": 77,
     "metadata": {},
     "output_type": "execute_result"
    }
   ],
   "source": [
    "loaded_model=Net()\n",
    "loaded_model.load_state_dict(torch.load('../models/birds_vs_airplanes.pt'))"
   ]
  },
  {
   "cell_type": "code",
   "execution_count": 78,
   "id": "fbcb6358",
   "metadata": {},
   "outputs": [
    {
     "name": "stdout",
     "output_type": "stream",
     "text": [
      "2021-11-24 17:33:23.331895 Epoch 1, Training loss 0.15569165033424737\n",
      "2021-11-24 17:33:37.445475 Epoch 10, Training loss 0.14306600183058696\n",
      "2021-11-24 17:33:52.561150 Epoch 20, Training loss 0.12950755399503525\n",
      "2021-11-24 17:34:08.433261 Epoch 30, Training loss 0.1162226041838242\n",
      "2021-11-24 17:34:24.804375 Epoch 40, Training loss 0.1034664582864494\n",
      "2021-11-24 17:34:40.454468 Epoch 50, Training loss 0.09148929976401435\n",
      "2021-11-24 17:34:55.694862 Epoch 60, Training loss 0.08046164398028213\n",
      "2021-11-24 17:35:10.884349 Epoch 70, Training loss 0.07043276387889674\n",
      "2021-11-24 17:35:26.077716 Epoch 80, Training loss 0.061378352130484426\n",
      "2021-11-24 17:35:41.311434 Epoch 90, Training loss 0.05332818982683739\n",
      "2021-11-24 17:35:56.681899 Epoch 100, Training loss 0.04629406393475973\n"
     ]
    }
   ],
   "source": [
    "optimizer=optim.SGD(loaded_model.parameters(), lr=1e-2)\n",
    "#loss_fn=nn.CrossEntropyLoss()\n",
    "training_loop(\n",
    "    n_epochs=100,\n",
    "    optimizer=optimizer,\n",
    "    model=loaded_model,\n",
    "    loss_fn=loss_fn,\n",
    "    train_loader=train_loader,\n",
    ")"
   ]
  },
  {
   "cell_type": "code",
   "execution_count": 98,
   "id": "cc6386f2",
   "metadata": {},
   "outputs": [
    {
     "data": {
      "image/png": "[encoded data removed]",
      "text/plain": [
       "<Figure size 432x288 with 1 Axes>"
      ]
     },
     "metadata": {
      "needs_background": "light"
     },
     "output_type": "display_data"
    }
   ],
   "source": [
    "img, _ = cifar2[11]\n",
    "plt.imshow(img.mean(0), cmap='gray')\n",
    "plt.show()"
   ]
  },
  {
   "cell_type": "markdown",
   "id": "35aa0e5d",
   "metadata": {},
   "source": [
    "output=loaded_model(img.unsqueeze(0))\n",
    "output"
   ]
  },
  {
   "cell_type": "code",
   "execution_count": 94,
   "id": "0c280f1f",
   "metadata": {},
   "outputs": [
    {
     "name": "stdout",
     "output_type": "stream",
     "text": [
      "tensor([[-5.0923,  5.3330]], grad_fn=<AddmmBackward0>)\n",
      "tensor([[-3.1638,  3.1543]], grad_fn=<AddmmBackward0>)\n",
      "tensor([[-2.8469,  2.8259]], grad_fn=<AddmmBackward0>)\n",
      "tensor([[-5.2449,  5.6438]], grad_fn=<AddmmBackward0>)\n",
      "tensor([[ 2.4443, -2.0572]], grad_fn=<AddmmBackward0>)\n",
      "tensor([[ 3.0532, -2.4389]], grad_fn=<AddmmBackward0>)\n",
      "tensor([[ 0.5370, -0.2687]], grad_fn=<AddmmBackward0>)\n",
      "tensor([[-2.9177,  3.2152]], grad_fn=<AddmmBackward0>)\n",
      "tensor([[-3.5372,  3.6225]], grad_fn=<AddmmBackward0>)\n",
      "tensor([[-0.2956,  0.4605]], grad_fn=<AddmmBackward0>)\n",
      "tensor([[-5.0274,  5.4765]], grad_fn=<AddmmBackward0>)\n",
      "tensor([[ 4.7862, -4.1411]], grad_fn=<AddmmBackward0>)\n",
      "tensor([[-7.9864,  8.1286]], grad_fn=<AddmmBackward0>)\n",
      "tensor([[-8.7681,  8.8945]], grad_fn=<AddmmBackward0>)\n",
      "tensor([[-5.6638,  5.9298]], grad_fn=<AddmmBackward0>)\n",
      "tensor([[-8.3311,  8.7668]], grad_fn=<AddmmBackward0>)\n",
      "tensor([[ 5.0628, -4.3341]], grad_fn=<AddmmBackward0>)\n",
      "tensor([[-1.1760,  1.4110]], grad_fn=<AddmmBackward0>)\n",
      "tensor([[ 3.4915, -3.4935]], grad_fn=<AddmmBackward0>)\n",
      "tensor([[-1.7010,  1.4695]], grad_fn=<AddmmBackward0>)\n",
      "tensor([[ 3.0218, -2.4090]], grad_fn=<AddmmBackward0>)\n",
      "tensor([[ 4.4992, -3.8499]], grad_fn=<AddmmBackward0>)\n",
      "tensor([[-6.6964,  6.7041]], grad_fn=<AddmmBackward0>)\n",
      "tensor([[-7.8153,  7.9231]], grad_fn=<AddmmBackward0>)\n",
      "tensor([[-2.7991,  3.0086]], grad_fn=<AddmmBackward0>)\n",
      "tensor([[ 1.8595, -1.6668]], grad_fn=<AddmmBackward0>)\n",
      "tensor([[-4.6269,  4.7544]], grad_fn=<AddmmBackward0>)\n",
      "tensor([[-3.8735,  3.4664]], grad_fn=<AddmmBackward0>)\n",
      "tensor([[ 3.1926, -3.1599]], grad_fn=<AddmmBackward0>)\n",
      "tensor([[-1.3421,  1.8962]], grad_fn=<AddmmBackward0>)\n",
      "tensor([[ 0.2636, -0.3189]], grad_fn=<AddmmBackward0>)\n",
      "tensor([[ 2.9691, -2.5919]], grad_fn=<AddmmBackward0>)\n",
      "tensor([[ 2.4425, -2.1697]], grad_fn=<AddmmBackward0>)\n",
      "tensor([[-5.8696,  6.0713]], grad_fn=<AddmmBackward0>)\n",
      "tensor([[-6.9233,  7.2772]], grad_fn=<AddmmBackward0>)\n",
      "tensor([[ 5.4045, -4.9350]], grad_fn=<AddmmBackward0>)\n",
      "tensor([[ 6.0437, -5.8584]], grad_fn=<AddmmBackward0>)\n",
      "tensor([[-7.6996,  8.3845]], grad_fn=<AddmmBackward0>)\n",
      "tensor([[ 1.9418, -1.8065]], grad_fn=<AddmmBackward0>)\n",
      "tensor([[ 0.6497, -0.8302]], grad_fn=<AddmmBackward0>)\n",
      "tensor([[ 9.1967, -8.5282]], grad_fn=<AddmmBackward0>)\n",
      "tensor([[ 3.6400, -3.1977]], grad_fn=<AddmmBackward0>)\n",
      "tensor([[-4.2435,  3.5932]], grad_fn=<AddmmBackward0>)\n",
      "tensor([[ 6.2387, -5.6951]], grad_fn=<AddmmBackward0>)\n",
      "tensor([[ 1.9594, -1.3198]], grad_fn=<AddmmBackward0>)\n",
      "tensor([[-5.5494,  6.2909]], grad_fn=<AddmmBackward0>)\n",
      "tensor([[-3.8716,  3.8898]], grad_fn=<AddmmBackward0>)\n",
      "tensor([[ 1.8159, -1.5634]], grad_fn=<AddmmBackward0>)\n",
      "tensor([[-4.4832,  4.5084]], grad_fn=<AddmmBackward0>)\n",
      "tensor([[ 2.3034, -2.2783]], grad_fn=<AddmmBackward0>)\n",
      "tensor([[-3.5005,  3.9305]], grad_fn=<AddmmBackward0>)\n",
      "tensor([[ 0.5553, -0.5588]], grad_fn=<AddmmBackward0>)\n",
      "tensor([[ 2.3377, -1.9506]], grad_fn=<AddmmBackward0>)\n",
      "tensor([[ 2.0977, -1.9064]], grad_fn=<AddmmBackward0>)\n",
      "tensor([[ 6.3234, -5.4864]], grad_fn=<AddmmBackward0>)\n",
      "tensor([[-0.4048,  0.6813]], grad_fn=<AddmmBackward0>)\n",
      "tensor([[ 7.5257, -7.0283]], grad_fn=<AddmmBackward0>)\n",
      "tensor([[ 5.9999, -5.7367]], grad_fn=<AddmmBackward0>)\n",
      "tensor([[ 1.5059, -1.4225]], grad_fn=<AddmmBackward0>)\n",
      "tensor([[ 0.9024, -0.5533]], grad_fn=<AddmmBackward0>)\n",
      "tensor([[ 2.9085, -2.6205]], grad_fn=<AddmmBackward0>)\n",
      "tensor([[-2.5610,  2.4913]], grad_fn=<AddmmBackward0>)\n",
      "tensor([[-4.4789,  4.0245]], grad_fn=<AddmmBackward0>)\n",
      "tensor([[ 5.0132, -4.8085]], grad_fn=<AddmmBackward0>)\n",
      "tensor([[ 1.0012, -0.9434]], grad_fn=<AddmmBackward0>)\n",
      "tensor([[ 5.0607, -4.4537]], grad_fn=<AddmmBackward0>)\n",
      "tensor([[-9.6379,  9.4505]], grad_fn=<AddmmBackward0>)\n",
      "tensor([[ 0.1368, -0.4416]], grad_fn=<AddmmBackward0>)\n",
      "tensor([[-7.3637,  7.4389]], grad_fn=<AddmmBackward0>)\n",
      "tensor([[ 4.0903, -3.8804]], grad_fn=<AddmmBackward0>)\n",
      "tensor([[-6.9400,  7.0911]], grad_fn=<AddmmBackward0>)\n",
      "tensor([[ 0.1417, -0.0336]], grad_fn=<AddmmBackward0>)\n",
      "tensor([[ 6.1394, -5.6153]], grad_fn=<AddmmBackward0>)\n",
      "tensor([[ 5.3633, -5.4357]], grad_fn=<AddmmBackward0>)\n",
      "tensor([[ 4.9083, -4.4010]], grad_fn=<AddmmBackward0>)\n",
      "tensor([[-2.2066,  2.2984]], grad_fn=<AddmmBackward0>)\n",
      "tensor([[ 5.4722, -4.9275]], grad_fn=<AddmmBackward0>)\n",
      "tensor([[ 3.3636, -3.3748]], grad_fn=<AddmmBackward0>)\n",
      "tensor([[-7.9032,  7.7510]], grad_fn=<AddmmBackward0>)\n",
      "tensor([[-5.9436,  5.5442]], grad_fn=<AddmmBackward0>)\n",
      "tensor([[-4.6497,  4.7320]], grad_fn=<AddmmBackward0>)\n",
      "tensor([[ 4.1539, -3.6332]], grad_fn=<AddmmBackward0>)\n",
      "tensor([[ 2.3464, -1.9499]], grad_fn=<AddmmBackward0>)\n",
      "tensor([[ 2.3704, -1.8509]], grad_fn=<AddmmBackward0>)\n",
      "tensor([[ 8.3326, -7.8208]], grad_fn=<AddmmBackward0>)\n",
      "tensor([[ 1.3882, -1.4133]], grad_fn=<AddmmBackward0>)\n",
      "tensor([[ 2.0774, -1.9090]], grad_fn=<AddmmBackward0>)\n",
      "tensor([[-4.1763,  4.3947]], grad_fn=<AddmmBackward0>)\n",
      "tensor([[ 1.5065, -1.5099]], grad_fn=<AddmmBackward0>)\n",
      "tensor([[ 8.8614, -8.2139]], grad_fn=<AddmmBackward0>)\n",
      "tensor([[-4.5744,  4.5819]], grad_fn=<AddmmBackward0>)\n",
      "tensor([[ 3.8642, -3.1220]], grad_fn=<AddmmBackward0>)\n",
      "tensor([[-8.6937,  8.5982]], grad_fn=<AddmmBackward0>)\n",
      "tensor([[ 2.8483, -2.5724]], grad_fn=<AddmmBackward0>)\n",
      "tensor([[-4.6363,  4.5737]], grad_fn=<AddmmBackward0>)\n",
      "tensor([[ 1.1439, -1.1267]], grad_fn=<AddmmBackward0>)\n",
      "tensor([[-3.6251,  4.0589]], grad_fn=<AddmmBackward0>)\n",
      "tensor([[-5.0515,  5.3848]], grad_fn=<AddmmBackward0>)\n",
      "tensor([[-6.0999,  6.1437]], grad_fn=<AddmmBackward0>)\n",
      "tensor([[ 4.6285, -4.4600]], grad_fn=<AddmmBackward0>)\n"
     ]
    }
   ],
   "source": [
    "for img, _ in cifar2[:100]:\n",
    "    output=loaded_model(img.unsqueeze(0))\n",
    "    print(output)"
   ]
  },
  {
   "cell_type": "code",
   "execution_count": 99,
   "id": "7fed8641",
   "metadata": {},
   "outputs": [
    {
     "name": "stdout",
     "output_type": "stream",
     "text": [
      "Training on device cpu.\n"
     ]
    }
   ],
   "source": [
    "device = (torch.device('cuda') if torch.cuda.is_available()\n",
    "          else torch.device('cpu'))\n",
    "print(f\"Training on device {device}.\")  # I DON'T HAVE A GPU XD"
   ]
  },
  {
   "cell_type": "code",
   "execution_count": null,
   "id": "e24de8ab",
   "metadata": {},
   "outputs": [],
   "source": []
  }
 ],
 "metadata": {
  "kernelspec": {
   "display_name": "Python 3 (ipykernel)",
   "language": "python",
   "name": "python3"
  },
  "language_info": {
   "codemirror_mode": {
    "name": "ipython",
    "version": 3
   },
   "file_extension": ".py",
   "mimetype": "text/x-python",
   "name": "python",
   "nbconvert_exporter": "python",
   "pygments_lexer": "ipython3",
   "version": "3.9.7"
  }
 },
 "nbformat": 4,
 "nbformat_minor": 5
}
